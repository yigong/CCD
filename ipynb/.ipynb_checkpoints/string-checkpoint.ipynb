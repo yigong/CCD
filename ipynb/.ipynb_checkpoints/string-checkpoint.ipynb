{
 "metadata": {
  "name": "",
  "signature": "sha256:0c6e2ed0e7805079a306b902276931d5c95c22679a326aa54413dccaca4206e6"
 },
 "nbformat": 3,
 "nbformat_minor": 0,
 "worksheets": []
}