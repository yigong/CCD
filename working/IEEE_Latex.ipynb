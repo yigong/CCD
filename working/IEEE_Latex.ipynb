{
 "metadata": {
  "name": "",
  "signature": "sha256:87452486dae8ec0496243868b155e8e513c57ea3f03a2e1edbbb56af45f3ea21"
 },
 "nbformat": 3,
 "nbformat_minor": 0,
 "worksheets": [
  {
   "cells": [
    {
     "cell_type": "code",
     "collapsed": false,
     "input": [
      "from IPython.display import Math\n",
      "Math(r'c = \\sqrt{a^2 + b^2}')"
     ],
     "language": "python",
     "metadata": {},
     "outputs": [
      {
       "latex": [
        "$$c = \\sqrt{a^2 + b^2}$$"
       ],
       "metadata": {},
       "output_type": "pyout",
       "prompt_number": 2,
       "text": [
        "<IPython.core.display.Math at 0x109004490>"
       ]
      }
     ],
     "prompt_number": 2
    },
    {
     "cell_type": "code",
     "collapsed": false,
     "input": [],
     "language": "python",
     "metadata": {},
     "outputs": []
    }
   ],
   "metadata": {}
  }
 ]
}