{
 "metadata": {
  "name": "",
  "signature": "sha256:b23898443db7e8c6566372fe023afb9addd4116a95928765fb2228d9c89b68ce"
 },
 "nbformat": 3,
 "nbformat_minor": 0,
 "worksheets": [
  {
   "cells": [
    {
     "cell_type": "code",
     "collapsed": false,
     "input": [
      "BINS = linspace(-10, 10,21)\n",
      "\n",
      "edata = eData(df)\n",
      "figure()\n",
      "ax = gca()\n",
      "counts, bins, poly_prev = hist(edata.back_projection, bins=BINS, histtype='step')\n",
      "vlines(-3, 0, counts.max(), color='r',alpha=0.5, lw=1.5)\n",
      "vlines(3, 0, counts.max(), color='r',alpha=0.5, lw=1.5)\n",
      "xlabel('back projection at scattering window (mm)', fontsize='x-large')\n",
      "ylabel('counts', fontsize='x-large')\n",
      "ylim([0, 800])\n",
      "title('No cut', fontsize='x-large')\n",
      "\n",
      "lower_bound = edata.back_projection > -2.5\n",
      "upper_bound = edata.back_projection < 2.5\n",
      "in_window = np.logical_and(lower_bound, upper_bound).sum()\n",
      "print '%s tracks are within window.'%(in_window)\n",
      "print '%s tracks are left.'%(len(edata.diffusivity))\n",
      "\n",
      "\n",
      "# end = 2\n",
      "edata.cutData(edata.ends_num == 2)\n",
      "figure()\n",
      "ax = gca()\n",
      "ax.plot(bins[1:], counts, drawstyle='steps', c='g', alpha=0.4, label='no cut')\n",
      "vlines(-3, 0, counts.max(), color='r',alpha=0.5, lw=1.5)\n",
      "vlines(3, 0, counts.max(), color='r',alpha=0.5, lw=1.5)\n",
      "counts, bins, poly_prev = hist(edata.back_projection, bins=BINS, histtype='step',\n",
      "                               color='b', label='num_ends=2')\n",
      "\n",
      "xlabel('back projection position (mm)', fontsize='x-large')\n",
      "ylabel('counts', fontsize='x-large')\n",
      "\n",
      "title('number of ends cut', fontsize='x-large')\n",
      "ylim([0, 800])\n",
      "legend()\n",
      "lower_bound = edata.back_projection > -2.5\n",
      "upper_bound = edata.back_projection < 2.5\n",
      "in_window = np.logical_and(lower_bound, upper_bound).sum()\n",
      "print '%s tracks are within window.'%(in_window)\n",
      "# diffusivity < 15\n",
      "edata.cutData(edata.diffusivity < 15)\n",
      "figure()\n",
      "ax = gca()\n",
      "ax.plot(bins[1:], counts, drawstyle='steps', c='g', alpha=0.4, label='num of ends cut')\n",
      "vlines(-3, 0, counts.max(), color='r',alpha=0.5, lw=1.5)\n",
      "vlines(3, 0, counts.max(), color='r',alpha=0.5, lw=1.5)\n",
      "counts, bins, poly_tmp = ax.hist(edata.back_projection, bins=BINS, \n",
      "                                 histtype='step', color='b', label='diffusivity cut')\n",
      "#poly = poly_prev[0]\n",
      "#poly.set_color('r')\n",
      "#poly.set_alpha(0.3)\n",
      "#ax.add_patch(poly)\n",
      "ax.legend()\n",
      "xlabel('back projection position (mm)', fontsize='x-large')\n",
      "ylabel('counts', fontsize='x-large')\n",
      "title('diffusivity cut', fontsize='x-large')\n",
      "\n",
      "alpha_flag = np.zeros_like(edata.diffusivity, dtype=bool)\n",
      "for i in range(len(alpha_flag)):\n",
      "    alpha = edata.alpha[i]\n",
      "    energy = edata.track_energy[i]\n",
      "    init_idx = edata.ends_idx[i]\n",
      "    init_tmp = edata.ends_pos[i][init_idx]\n",
      "    row_init = init_tmp[0]\n",
      "    col_init = init_tmp[1]\n",
      "    alpha_min = alpha_min_map[row_init, col_init]\n",
      "    alpha_max = alpha_max_map[row_init, col_init]\n",
      "    if alpha_min < alpha < alpha_max:\n",
      "        alpha_flag[i] = True\n",
      "\n",
      "\n",
      "# alpha cut\n",
      "edata.cutData(alpha_flag)\n",
      "figure()\n",
      "ax = gca()\n",
      "ax.plot(bins[1:], counts, drawstyle='steps', c='r', alpha=0.4, label='diffusivity cut')\n",
      "vlines(-3, 0, counts.max(), color='r',alpha=0.5, lw=1.5)\n",
      "vlines(3, 0, counts.max(), color='r',alpha=0.5, lw=1.5)\n",
      "counts, bins, poly_tmp = ax.hist(edata.back_projection, bins=BINS, \n",
      "                                 histtype='step', color='b', label='direction cut')\n",
      "ax.legend()\n",
      "xlabel('back projection position (mm)', fontsize='x-large')\n",
      "ylabel('counts', fontsize='x-large')\n",
      "ylim([0, 280])\n",
      "title('direction cut', fontsize='x-large')\n"
     ],
     "language": "python",
     "metadata": {},
     "outputs": [
      {
       "output_type": "stream",
       "stream": "stdout",
       "text": [
        "3468 tracks are within window.\n",
        "38651 tracks are left.\n",
        "Cutting data from : 38651 to 33983"
       ]
      },
      {
       "output_type": "stream",
       "stream": "stdout",
       "text": [
        "\n",
        "2603 tracks are within window."
       ]
      },
      {
       "output_type": "stream",
       "stream": "stdout",
       "text": [
        "\n",
        "Cutting data from : 33983 to 7613\n",
        "Cutting data from : 7613 to 710"
       ]
      },
      {
       "output_type": "stream",
       "stream": "stdout",
       "text": [
        "\n"
       ]
      },
      {
       "metadata": {},
       "output_type": "pyout",
       "prompt_number": 699,
       "text": [
        "<matplotlib.text.Text at 0x241491bd0>"
       ]
      }
     ],
     "prompt_number": 699
    },
    {
     "cell_type": "code",
     "collapsed": false,
     "input": [
      "# energy cut\n",
      "energy_flag = np.zeros_like(edata.diffusivity, dtype=bool)\n",
      "for i in range(len(energy_flag)):\n",
      "    alpha = edata.alpha[i]\n",
      "    energy = edata.track_energy[i]\n",
      "    init_idx = edata.ends_idx[i]\n",
      "    init_tmp = edata.ends_pos[i][init_idx]\n",
      "    row_init = init_tmp[0]\n",
      "    col_init = init_tmp[1]\n",
      "    energy_min = energy_min_map[row_init, col_init]\n",
      "    energy_max = energy_max_map[row_init, col_init]\n",
      "    if energy_min < energy < energy_max:\n",
      "        energy_flag[i] = True\n",
      "        \n",
      "edata.cutData(energy_flag)\n",
      "figure()\n",
      "ax = gca()\n",
      "ax.plot(bins[1:], counts, drawstyle='steps', c='g', alpha=0.4, label='direction cut')\n",
      "vlines(-3, 0, counts.max(), color='r',alpha=0.5, lw=1.5)\n",
      "vlines(3, 0, counts.max(), color='r',alpha=0.5, lw=1.5)\n",
      "counts, bins, poly_tmp = ax.hist(edata.back_projection, bins=BINS, \n",
      "                                 histtype='step', color='b', label='energy cut')\n",
      "\n",
      "ax.legend()\n",
      "xlabel('back projection position (mm)', fontsize='x-large')\n",
      "ylabel('counts', fontsize='x-large')\n",
      "ylim([0,50])\n",
      "title('energy cut', fontsize='x-large')\n",
      "\n",
      "lower_bound = edata.back_projection > -2.5\n",
      "upper_bound = edata.back_projection < 2.5\n",
      "in_window = np.logical_and(lower_bound, upper_bound).sum()\n",
      "\n",
      "print '%s tracks are within window.'%(in_window)\n",
      "\n"
     ],
     "language": "python",
     "metadata": {},
     "outputs": [
      {
       "output_type": "stream",
       "stream": "stdout",
       "text": [
        "Cutting data from : 710 to 89\n",
        "38 tracks are within window."
       ]
      },
      {
       "output_type": "stream",
       "stream": "stdout",
       "text": [
        "\n"
       ]
      }
     ],
     "prompt_number": 700
    },
    {
     "cell_type": "code",
     "collapsed": false,
     "input": [
      "figure()\n",
      "ax = gca()\n",
      "\n",
      "counts, bins, poly_tmp = ax.hist(edata.back_projection, bins=linspace(-10, 10, 21), \n",
      "                                 histtype='step', color='b', label='energy cut')\n",
      "\n",
      "vlines(-3, 0, 12, color='r',alpha=0.5, lw=1.5)\n",
      "vlines(3, 0, 12, color='r',alpha=0.5, lw=1.5)\n",
      "xlabel('back projection position (mm)', fontsize='x-large')\n",
      "ylabel('counts', fontsize='x-large')\n",
      "ylim([0,12])\n",
      "\n",
      "\n",
      "lower_bound = edata.back_projection > -2.5\n",
      "upper_bound = edata.back_projection < 2.5\n",
      "in_window = np.logical_and(lower_bound, upper_bound).sum()\n",
      "\n",
      "print '%s tracks are within window.'%(in_window)\n",
      "\n",
      "\n",
      "\n",
      "\n",
      "\n",
      "\n",
      "\n",
      "\n",
      "\n",
      "\n",
      "\n",
      "\n",
      "\n",
      "\n",
      "\n",
      "\n",
      "\n"
     ],
     "language": "python",
     "metadata": {},
     "outputs": [
      {
       "output_type": "stream",
       "stream": "stdout",
       "text": [
        "38 tracks are within window.\n"
       ]
      }
     ],
     "prompt_number": 703
    },
    {
     "cell_type": "code",
     "collapsed": false,
     "input": [],
     "language": "python",
     "metadata": {},
     "outputs": []
    },
    {
     "cell_type": "code",
     "collapsed": false,
     "input": [],
     "language": "python",
     "metadata": {},
     "outputs": []
    },
    {
     "cell_type": "code",
     "collapsed": false,
     "input": [
      "fig, ax = plt.subplots()\n",
      "ax.hist(edata_lowE.diffusivity, bins=linspace(10, 40,101), histtype='step')\n",
      "ax.set_xlabel('diffusivity (mm)', fontsize='x-large')\n",
      "ax.set_ylabel('counts', fontsize='x-large')\n",
      "ax.set_title('Sr-90 beta source', fontsize='x-large')\n",
      "ax.vlines(x=15, ymin=0, ymax=80, colors='r')\n",
      "plt.show()"
     ],
     "language": "python",
     "metadata": {},
     "outputs": [],
     "prompt_number": 566
    },
    {
     "cell_type": "code",
     "collapsed": false,
     "input": [
      "ax.vlines?"
     ],
     "language": "python",
     "metadata": {},
     "outputs": [],
     "prompt_number": 567
    },
    {
     "cell_type": "code",
     "collapsed": false,
     "input": [
      "edata_lowE.cutData(edata_lowE.diffusivity > 15)"
     ],
     "language": "python",
     "metadata": {},
     "outputs": [
      {
       "output_type": "stream",
       "stream": "stdout",
       "text": [
        "Cutting data from : 430 to 64\n"
       ]
      }
     ],
     "prompt_number": 418
    },
    {
     "cell_type": "code",
     "collapsed": false,
     "input": [
      "64./430"
     ],
     "language": "python",
     "metadata": {},
     "outputs": [
      {
       "metadata": {},
       "output_type": "pyout",
       "prompt_number": 419,
       "text": [
        "0.14883720930232558"
       ]
      }
     ],
     "prompt_number": 419
    },
    {
     "cell_type": "code",
     "collapsed": false,
     "input": [
      "figure();\n",
      "hist(df_filtered['back-projection'], np.arange(-10,10))"
     ],
     "language": "python",
     "metadata": {},
     "outputs": [
      {
       "metadata": {},
       "output_type": "pyout",
       "prompt_number": 441,
       "text": [
        "(array([  5.,   4.,   3.,   6.,   5.,  12.,  11.,  17.,  18.,  19.,  17.,\n",
        "         22.,  13.,   8.,   7.,   5.,   3.,   6.,   6.]),\n",
        " array([-10,  -9,  -8,  -7,  -6,  -5,  -4,  -3,  -2,  -1,   0,   1,   2,\n",
        "          3,   4,   5,   6,   7,   8,   9]),\n",
        " <a list of 19 Patch objects>)"
       ]
      }
     ],
     "prompt_number": 441
    },
    {
     "cell_type": "code",
     "collapsed": false,
     "input": [
      "ax.add_patch??\n"
     ],
     "language": "python",
     "metadata": {},
     "outputs": [],
     "prompt_number": 468
    },
    {
     "cell_type": "code",
     "collapsed": false,
     "input": [
      "%connect_info"
     ],
     "language": "python",
     "metadata": {},
     "outputs": [
      {
       "output_type": "stream",
       "stream": "stdout",
       "text": [
        "{\n",
        "  \"stdin_port\": 54085, \n",
        "  \"ip\": \"127.0.0.1\", \n",
        "  \"control_port\": 54086, \n",
        "  \"hb_port\": 54087, \n",
        "  \"signature_scheme\": \"hmac-sha256\", \n",
        "  \"key\": \"22807745-cc1a-41af-90a2-4e5845c22e14\", \n",
        "  \"shell_port\": 54083, \n",
        "  \"transport\": \"tcp\", \n",
        "  \"iopub_port\": 54084\n",
        "}\n",
        "\n",
        "Paste the above JSON into a file, and connect with:\n",
        "    $> ipython <app> --existing <file>\n",
        "or, if you are local, you can connect with just:\n",
        "    $> ipython <app> --existing kernel-39a6f946-1338-4378-a3f7-26d219fce233.json \n",
        "or even just:\n",
        "    $> ipython <app> --existing \n",
        "if this is the most recent IPython session you have started.\n"
       ]
      }
     ],
     "prompt_number": 624
    },
    {
     "cell_type": "code",
     "collapsed": false,
     "input": [
      "edata = eData(df)"
     ],
     "language": "python",
     "metadata": {},
     "outputs": [],
     "prompt_number": 628
    },
    {
     "cell_type": "code",
     "collapsed": false,
     "input": [
      "figure()\n",
      "hist(edata.ends_num, bins=100)"
     ],
     "language": "python",
     "metadata": {},
     "outputs": [
      {
       "metadata": {},
       "output_type": "pyout",
       "prompt_number": 632,
       "text": [
        "(array([  2.67000000e+02,   0.00000000e+00,   0.00000000e+00,\n",
        "          0.00000000e+00,   3.39830000e+04,   0.00000000e+00,\n",
        "          0.00000000e+00,   0.00000000e+00,   2.52900000e+03,\n",
        "          0.00000000e+00,   0.00000000e+00,   0.00000000e+00,\n",
        "          0.00000000e+00,   1.15900000e+03,   0.00000000e+00,\n",
        "          0.00000000e+00,   0.00000000e+00,   3.79000000e+02,\n",
        "          0.00000000e+00,   0.00000000e+00,   0.00000000e+00,\n",
        "          1.69000000e+02,   0.00000000e+00,   0.00000000e+00,\n",
        "          0.00000000e+00,   0.00000000e+00,   7.20000000e+01,\n",
        "          0.00000000e+00,   0.00000000e+00,   0.00000000e+00,\n",
        "          4.20000000e+01,   0.00000000e+00,   0.00000000e+00,\n",
        "          0.00000000e+00,   1.60000000e+01,   0.00000000e+00,\n",
        "          0.00000000e+00,   0.00000000e+00,   0.00000000e+00,\n",
        "          1.10000000e+01,   0.00000000e+00,   0.00000000e+00,\n",
        "          0.00000000e+00,   1.40000000e+01,   0.00000000e+00,\n",
        "          0.00000000e+00,   0.00000000e+00,   4.00000000e+00,\n",
        "          0.00000000e+00,   0.00000000e+00,   0.00000000e+00,\n",
        "          0.00000000e+00,   2.00000000e+00,   0.00000000e+00,\n",
        "          0.00000000e+00,   0.00000000e+00,   1.00000000e+00,\n",
        "          0.00000000e+00,   0.00000000e+00,   0.00000000e+00,\n",
        "          0.00000000e+00,   0.00000000e+00,   0.00000000e+00,\n",
        "          0.00000000e+00,   0.00000000e+00,   0.00000000e+00,\n",
        "          0.00000000e+00,   0.00000000e+00,   0.00000000e+00,\n",
        "          1.00000000e+00,   0.00000000e+00,   0.00000000e+00,\n",
        "          0.00000000e+00,   1.00000000e+00,   0.00000000e+00,\n",
        "          0.00000000e+00,   0.00000000e+00,   0.00000000e+00,\n",
        "          0.00000000e+00,   0.00000000e+00,   0.00000000e+00,\n",
        "          0.00000000e+00,   0.00000000e+00,   0.00000000e+00,\n",
        "          0.00000000e+00,   0.00000000e+00,   0.00000000e+00,\n",
        "          0.00000000e+00,   0.00000000e+00,   0.00000000e+00,\n",
        "          0.00000000e+00,   0.00000000e+00,   0.00000000e+00,\n",
        "          0.00000000e+00,   0.00000000e+00,   0.00000000e+00,\n",
        "          0.00000000e+00,   0.00000000e+00,   0.00000000e+00,\n",
        "          1.00000000e+00]),\n",
        " array([  1.  ,   1.23,   1.46,   1.69,   1.92,   2.15,   2.38,   2.61,\n",
        "          2.84,   3.07,   3.3 ,   3.53,   3.76,   3.99,   4.22,   4.45,\n",
        "          4.68,   4.91,   5.14,   5.37,   5.6 ,   5.83,   6.06,   6.29,\n",
        "          6.52,   6.75,   6.98,   7.21,   7.44,   7.67,   7.9 ,   8.13,\n",
        "          8.36,   8.59,   8.82,   9.05,   9.28,   9.51,   9.74,   9.97,\n",
        "         10.2 ,  10.43,  10.66,  10.89,  11.12,  11.35,  11.58,  11.81,\n",
        "         12.04,  12.27,  12.5 ,  12.73,  12.96,  13.19,  13.42,  13.65,\n",
        "         13.88,  14.11,  14.34,  14.57,  14.8 ,  15.03,  15.26,  15.49,\n",
        "         15.72,  15.95,  16.18,  16.41,  16.64,  16.87,  17.1 ,  17.33,\n",
        "         17.56,  17.79,  18.02,  18.25,  18.48,  18.71,  18.94,  19.17,\n",
        "         19.4 ,  19.63,  19.86,  20.09,  20.32,  20.55,  20.78,  21.01,\n",
        "         21.24,  21.47,  21.7 ,  21.93,  22.16,  22.39,  22.62,  22.85,\n",
        "         23.08,  23.31,  23.54,  23.77,  24.  ]),\n",
        " <a list of 100 Patch objects>)"
       ]
      }
     ],
     "prompt_number": 632
    },
    {
     "cell_type": "code",
     "collapsed": false,
     "input": [
      "%connect_info"
     ],
     "language": "python",
     "metadata": {},
     "outputs": [
      {
       "output_type": "stream",
       "stream": "stdout",
       "text": [
        "{\n",
        "  \"stdin_port\": 53842, \n",
        "  \"ip\": \"127.0.0.1\", \n",
        "  \"control_port\": 53843, \n",
        "  \"hb_port\": 53844, \n",
        "  \"signature_scheme\": \"hmac-sha256\", \n",
        "  \"key\": \"60c4905d-b107-4ef8-8281-2f0e9884fe97\", \n",
        "  \"shell_port\": 53840, \n",
        "  \"transport\": \"tcp\", \n",
        "  \"iopub_port\": 53841\n",
        "}\n",
        "\n",
        "Paste the above JSON into a file, and connect with:\n",
        "    $> ipython <app> --existing <file>\n",
        "or, if you are local, you can connect with just:\n",
        "    $> ipython <app> --existing kernel-c7e30d6f-a8f5-4619-8d83-29a7f60e960a.json \n",
        "or even just:\n",
        "    $> ipython <app> --existing \n",
        "if this is the most recent IPython session you have started.\n"
       ]
      }
     ],
     "prompt_number": 1
    },
    {
     "cell_type": "code",
     "collapsed": false,
     "input": [],
     "language": "python",
     "metadata": {},
     "outputs": []
    }
   ],
   "metadata": {}
  }
 ]
}