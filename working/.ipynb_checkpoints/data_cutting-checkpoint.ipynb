{
 "metadata": {
  "name": "",
  "signature": "sha256:e30b8907b568d3d5feb82d8a3d70149bf02b003b4d256e450307aabb049b1af4"
 },
 "nbformat": 3,
 "nbformat_minor": 0,
 "worksheets": [
  {
   "cells": [
    {
     "cell_type": "code",
     "collapsed": false,
     "input": [
      "# flag\n",
      "edata = eData(df)\n",
      "# end = 2\n",
      "edata.cutData(edata.ends_num == 2)\n",
      "figure()\n",
      "ax = gca()\n",
      "counts, bins, poly = hist(edata.back_projection, bins=linspace(-10, 10,101), histtype='step')\n",
      "xlabel('back projection position (um)', fontsize='x-large')\n",
      "ylabel('counts', fontsize='x-large')\n",
      "title('number of ends cut', fontsize='x-large')"
     ],
     "language": "python",
     "metadata": {},
     "outputs": [
      {
       "output_type": "stream",
       "stream": "stdout",
       "text": [
        "Cutting data from : 38651 to 33983\n"
       ]
      },
      {
       "metadata": {},
       "output_type": "pyout",
       "prompt_number": 472,
       "text": [
        "<matplotlib.text.Text at 0x221481690>"
       ]
      }
     ],
     "prompt_number": 472
    },
    {
     "cell_type": "code",
     "collapsed": false,
     "input": [
      "a = dummy[0]\n",
      "a.set_alpha"
     ],
     "language": "python",
     "metadata": {},
     "outputs": [],
     "prompt_number": 470
    },
    {
     "cell_type": "code",
     "collapsed": false,
     "input": [
      "dummy\n",
      "figure();\n",
      "ax = gca()\n",
      "prev = dummy[0]\n",
      "prev.set_color('r')\n",
      "prev.set_alpha(0.4)\n",
      "ax.add_patch(dummy[0])"
     ],
     "language": "python",
     "metadata": {},
     "outputs": [
      {
       "metadata": {},
       "output_type": "pyout",
       "prompt_number": 471,
       "text": [
        "<matplotlib.patches.Polygon at 0x2105dbb90>"
       ]
      }
     ],
     "prompt_number": 471
    },
    {
     "cell_type": "code",
     "collapsed": false,
     "input": [
      "# diffusivity < 15\n",
      "edata.cutData(edata.diffusivity < 15)\n",
      "figure()\n",
      "counts, bins, dummy = hist(edata.back_projection, bins=linspace(-10, 10,101), histtype='step')\n",
      "xlabel('back projection position (um)', fontsize='x-large')\n",
      "ylabel('counts', fontsize='x-large')\n",
      "title('diffusivity cut', fontsize='x-large')"
     ],
     "language": "python",
     "metadata": {},
     "outputs": [
      {
       "output_type": "stream",
       "stream": "stdout",
       "text": [
        "Cutting data from : 33983 to 7613\n"
       ]
      },
      {
       "metadata": {},
       "output_type": "pyout",
       "prompt_number": 460,
       "text": [
        "<matplotlib.text.Text at 0x2103c8550>"
       ]
      }
     ],
     "prompt_number": 460
    },
    {
     "cell_type": "code",
     "collapsed": false,
     "input": [
      "# \n",
      "edata.cutData(edata.diffusivity < 15)\n",
      "figure()\n",
      "c, h, d = hist(edata.back_projection, bins=linspace(-10, 10,101), histtype='step')\n",
      "xlabel('back projection position (um)', fontsize='x-large')\n",
      "ylabel('counts', fontsize='x-large')\n",
      "title('diffusivity cut', fontsize='x-large')\n",
      "\n",
      "\n",
      "#edata.cutData(edata.)\n",
      "\n",
      "# diffusivity < 15\n",
      "# edata_lowE = eData(df)\n",
      "# edata_lowE.cutData(np.logical_and(edata.track_energy>100, edata.length>30))\n",
      "#print '_'*50\n",
      "# diffusivity > 15\n",
      "#edata_diff_lg = eData(df)\n",
      "#edata_diff_lg.cutData(edata.diffusivity>15)"
     ],
     "language": "python",
     "metadata": {},
     "outputs": [
      {
       "output_type": "stream",
       "stream": "stdout",
       "text": [
        "Cutting data from : 38651 to 33983\n",
        "Cutting data from : 33983 to 7613"
       ]
      },
      {
       "output_type": "stream",
       "stream": "stdout",
       "text": [
        "\n"
       ]
      },
      {
       "metadata": {},
       "output_type": "pyout",
       "prompt_number": 454,
       "text": [
        "<matplotlib.text.Text at 0x1837379d0>"
       ]
      }
     ],
     "prompt_number": 454
    },
    {
     "cell_type": "code",
     "collapsed": false,
     "input": [
      "fig, ax = plt.subplots()\n",
      "ax.hist(edata_lowE.diffusivity, bins=linspace(10, 40,101), histtype='step')\n",
      "ax.set_xlabel('diffusivity (um)', fontsize='x-large')\n",
      "ax.set_ylabel('counts', fontsize='x-large')\n",
      "ax.set_title('Sr-90 beta source', fontsize='x-large')\n",
      "ax.vlines(x=15, ymin=0, ymax=80, colors='r')\n",
      "plt.show()"
     ],
     "language": "python",
     "metadata": {},
     "outputs": [],
     "prompt_number": 427
    },
    {
     "cell_type": "code",
     "collapsed": false,
     "input": [
      "ax.vlines?"
     ],
     "language": "python",
     "metadata": {},
     "outputs": [],
     "prompt_number": 410
    },
    {
     "cell_type": "code",
     "collapsed": false,
     "input": [
      "edata_lowE.cutData(edata_lowE.diffusivity > 15)"
     ],
     "language": "python",
     "metadata": {},
     "outputs": [
      {
       "output_type": "stream",
       "stream": "stdout",
       "text": [
        "Cutting data from : 430 to 64\n"
       ]
      }
     ],
     "prompt_number": 418
    },
    {
     "cell_type": "code",
     "collapsed": false,
     "input": [
      "64./430"
     ],
     "language": "python",
     "metadata": {},
     "outputs": [
      {
       "metadata": {},
       "output_type": "pyout",
       "prompt_number": 419,
       "text": [
        "0.14883720930232558"
       ]
      }
     ],
     "prompt_number": 419
    },
    {
     "cell_type": "code",
     "collapsed": false,
     "input": [
      "figure();\n",
      "hist(df_filtered['back-projection'], np.arange(-10,10))"
     ],
     "language": "python",
     "metadata": {},
     "outputs": [
      {
       "metadata": {},
       "output_type": "pyout",
       "prompt_number": 441,
       "text": [
        "(array([  5.,   4.,   3.,   6.,   5.,  12.,  11.,  17.,  18.,  19.,  17.,\n",
        "         22.,  13.,   8.,   7.,   5.,   3.,   6.,   6.]),\n",
        " array([-10,  -9,  -8,  -7,  -6,  -5,  -4,  -3,  -2,  -1,   0,   1,   2,\n",
        "          3,   4,   5,   6,   7,   8,   9]),\n",
        " <a list of 19 Patch objects>)"
       ]
      }
     ],
     "prompt_number": 441
    },
    {
     "cell_type": "code",
     "collapsed": false,
     "input": [
      "ax.add_patch??\n"
     ],
     "language": "python",
     "metadata": {},
     "outputs": [],
     "prompt_number": 468
    },
    {
     "cell_type": "code",
     "collapsed": false,
     "input": [],
     "language": "python",
     "metadata": {},
     "outputs": []
    }
   ],
   "metadata": {}
  }
 ]
}